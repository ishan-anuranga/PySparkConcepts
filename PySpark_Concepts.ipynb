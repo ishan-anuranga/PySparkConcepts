{
  "nbformat": 4,
  "nbformat_minor": 0,
  "metadata": {
    "colab": {
      "provenance": [],
      "authorship_tag": "ABX9TyNQFd1cpuHNqqNxSTPeOfoy",
      "include_colab_link": true
    },
    "kernelspec": {
      "name": "python3",
      "display_name": "Python 3"
    },
    "language_info": {
      "name": "python"
    }
  },
  "cells": [
    {
      "cell_type": "markdown",
      "metadata": {
        "id": "view-in-github",
        "colab_type": "text"
      },
      "source": [
        "<a href=\"https://colab.research.google.com/github/ishan-anuranga/PySparkConcepts/blob/main/PySpark_Concepts.ipynb\" target=\"_parent\"><img src=\"https://colab.research.google.com/assets/colab-badge.svg\" alt=\"Open In Colab\"/></a>"
      ]
    },
    {
      "cell_type": "code",
      "execution_count": 3,
      "metadata": {
        "colab": {
          "base_uri": "https://localhost:8080/"
        },
        "id": "JrrKmKmTL8H7",
        "outputId": "3baf3175-119b-4cd6-f11d-f51b28b3e704"
      },
      "outputs": [
        {
          "output_type": "stream",
          "name": "stdout",
          "text": [
            "Collecting pyspark\n",
            "  Downloading pyspark-3.4.1.tar.gz (310.8 MB)\n",
            "\u001b[2K     \u001b[90m━━━━━━━━━━━━━━━━━━━━━━━━━━━━━━━━━━━━━━━\u001b[0m \u001b[32m310.8/310.8 MB\u001b[0m \u001b[31m4.6 MB/s\u001b[0m eta \u001b[36m0:00:00\u001b[0m\n",
            "\u001b[?25h  Preparing metadata (setup.py) ... \u001b[?25l\u001b[?25hdone\n",
            "Requirement already satisfied: py4j==0.10.9.7 in /usr/local/lib/python3.10/dist-packages (from pyspark) (0.10.9.7)\n",
            "Building wheels for collected packages: pyspark\n",
            "  Building wheel for pyspark (setup.py) ... \u001b[?25l\u001b[?25hdone\n",
            "  Created wheel for pyspark: filename=pyspark-3.4.1-py2.py3-none-any.whl size=311285387 sha256=9b52138e54b0966b106165f6e37c7b254471c567aff78aa3ddc8f9f267f3293f\n",
            "  Stored in directory: /root/.cache/pip/wheels/0d/77/a3/ff2f74cc9ab41f8f594dabf0579c2a7c6de920d584206e0834\n",
            "Successfully built pyspark\n",
            "Installing collected packages: pyspark\n",
            "Successfully installed pyspark-3.4.1\n"
          ]
        }
      ],
      "source": [
        "!pip install pyspark\n",
        "\n"
      ]
    },
    {
      "cell_type": "code",
      "source": [
        "from pyspark import SparkContext"
      ],
      "metadata": {
        "id": "2rFSXK_0MDZG"
      },
      "execution_count": 4,
      "outputs": []
    },
    {
      "cell_type": "code",
      "source": [
        "sc = SparkContext('local', 'PySparkIntro')"
      ],
      "metadata": {
        "id": "PIHOqrWVMWEm"
      },
      "execution_count": 5,
      "outputs": []
    },
    {
      "cell_type": "code",
      "source": [
        "from pyspark.sql import SparkSession"
      ],
      "metadata": {
        "id": "WASX3fxAMhc1"
      },
      "execution_count": 6,
      "outputs": []
    },
    {
      "cell_type": "code",
      "source": [
        "spark = SparkSession.builder.appName('PySparkIntro').getOrCreate()"
      ],
      "metadata": {
        "id": "Y6Et98-lMmT4"
      },
      "execution_count": 7,
      "outputs": []
    },
    {
      "cell_type": "code",
      "source": [
        "data = [1, 2, 3, 4, 5]\n",
        "rdd = sc.parallelize(data)"
      ],
      "metadata": {
        "id": "DSaTIKVrMuUJ"
      },
      "execution_count": 8,
      "outputs": []
    },
    {
      "cell_type": "code",
      "source": [
        "squared_rdd = rdd.map(lambda x: x**2)"
      ],
      "metadata": {
        "id": "XEYrzSGnNeWs"
      },
      "execution_count": 9,
      "outputs": []
    },
    {
      "cell_type": "code",
      "source": [
        "even_rdd = rdd.filter(lambda x: x % 2 == 0)"
      ],
      "metadata": {
        "id": "fMFNaFZANlbx"
      },
      "execution_count": 10,
      "outputs": []
    },
    {
      "cell_type": "code",
      "source": [
        "collected_data = squared_rdd.collect()"
      ],
      "metadata": {
        "id": "XH5ty7LkNsRQ"
      },
      "execution_count": 11,
      "outputs": []
    },
    {
      "cell_type": "code",
      "source": [
        "num_elements = squared_rdd.count()"
      ],
      "metadata": {
        "id": "7KiVRLQLN7RQ"
      },
      "execution_count": 12,
      "outputs": []
    },
    {
      "cell_type": "code",
      "source": [
        "from pyspark.sql.types import StructType, StructField, StringType, IntegerType"
      ],
      "metadata": {
        "id": "eOK0ND0CQIvn"
      },
      "execution_count": 13,
      "outputs": []
    },
    {
      "cell_type": "code",
      "source": [
        "schema = StructType([\n",
        "    StructField('Name', StringType(), True),\n",
        "    StructField('Age', StringType(), True),\n",
        "    StructField('Salary', StringType(), True)\n",
        "])"
      ],
      "metadata": {
        "id": "mW8sHO7tQLDW"
      },
      "execution_count": 14,
      "outputs": []
    },
    {
      "cell_type": "code",
      "source": [
        "data = [('Alice', 28, 45000), ('Bob', 36, 60000), ('Cathy', 23, 35000)]"
      ],
      "metadata": {
        "id": "NQqAmmCqQMYl"
      },
      "execution_count": 15,
      "outputs": []
    },
    {
      "cell_type": "code",
      "source": [
        "ds = spark.createDataFrame(data, schema)"
      ],
      "metadata": {
        "id": "CHCPvM0XQOdO"
      },
      "execution_count": 16,
      "outputs": []
    },
    {
      "cell_type": "code",
      "source": [
        "ds = ds.alias('employees')"
      ],
      "metadata": {
        "id": "KEuAq2ISRMBN"
      },
      "execution_count": 17,
      "outputs": []
    },
    {
      "cell_type": "code",
      "source": [
        "ds.show()"
      ],
      "metadata": {
        "id": "2JCLnCnZRSSA",
        "outputId": "b8b46a59-1bb6-4596-e8d0-4109f58da264",
        "colab": {
          "base_uri": "https://localhost:8080/"
        }
      },
      "execution_count": 18,
      "outputs": [
        {
          "output_type": "stream",
          "name": "stdout",
          "text": [
            "+-----+---+------+\n",
            "| Name|Age|Salary|\n",
            "+-----+---+------+\n",
            "|Alice| 28| 45000|\n",
            "|  Bob| 36| 60000|\n",
            "|Cathy| 23| 35000|\n",
            "+-----+---+------+\n",
            "\n"
          ]
        }
      ]
    },
    {
      "cell_type": "markdown",
      "source": [
        "## Dataframe API"
      ],
      "metadata": {
        "id": "nnbeJFOyrU6V"
      }
    },
    {
      "cell_type": "code",
      "source": [
        "# data_file = 'path/to/data.csv'\n",
        "# df = spark.read.csv(data_file, header=True, inferSchema=True)"
      ],
      "metadata": {
        "id": "_zpg0VuIrZkS"
      },
      "execution_count": 19,
      "outputs": []
    },
    {
      "cell_type": "code",
      "source": [
        "data = [('Alice', 28, 45000), ('Bob', 36, 60000), ('Cathy', 23, 35000)]\n",
        "ds = spark.createDataFrame(data, ['name', 'age', 'salary'])\n",
        "ds.show()"
      ],
      "metadata": {
        "colab": {
          "base_uri": "https://localhost:8080/"
        },
        "id": "Lj0fX5Rtr7Cy",
        "outputId": "a5b5bbe8-4f54-4b83-a658-a83873b90549"
      },
      "execution_count": 20,
      "outputs": [
        {
          "output_type": "stream",
          "name": "stdout",
          "text": [
            "+-----+---+------+\n",
            "| name|age|salary|\n",
            "+-----+---+------+\n",
            "|Alice| 28| 45000|\n",
            "|  Bob| 36| 60000|\n",
            "|Cathy| 23| 35000|\n",
            "+-----+---+------+\n",
            "\n"
          ]
        }
      ]
    },
    {
      "cell_type": "markdown",
      "source": [
        "## Semi structured data"
      ],
      "metadata": {
        "id": "fYEqIrT8swRx"
      }
    },
    {
      "cell_type": "code",
      "source": [
        "# json_data_file = 'path/to/data.json'\n",
        "# df_json = spark.read.json(json_data_file)"
      ],
      "metadata": {
        "id": "CCWV7D7Ksy5Q"
      },
      "execution_count": null,
      "outputs": []
    },
    {
      "cell_type": "code",
      "source": [
        "# xml_data_file = 'path/to/data.json'\n",
        "# df_xml = spark.read.format('xml').option('rowTag', 'employee').load(xml_data_file)"
      ],
      "metadata": {
        "id": "C6YPt_VNtAOr"
      },
      "execution_count": null,
      "outputs": []
    },
    {
      "cell_type": "markdown",
      "source": [
        "# Data cleaning and preprocessing"
      ],
      "metadata": {
        "id": "nF3EwU1atZNq"
      }
    },
    {
      "cell_type": "markdown",
      "source": [
        "## Missing values"
      ],
      "metadata": {
        "id": "EBpxNkpztgs5"
      }
    },
    {
      "cell_type": "code",
      "source": [
        "data_with_missing = [\n",
        "    ('Alice', 28, 45000),\n",
        "    ('Bob', None, 60000),\n",
        "    ('Cathy', 22, None)\n",
        "]"
      ],
      "metadata": {
        "id": "8KI_-oCMtdaH"
      },
      "execution_count": 21,
      "outputs": []
    },
    {
      "cell_type": "code",
      "source": [
        "df_missing = spark.createDataFrame(data_with_missing, ['Name', 'Age', 'Salary'])"
      ],
      "metadata": {
        "id": "J45r3od7tx5m"
      },
      "execution_count": 23,
      "outputs": []
    },
    {
      "cell_type": "code",
      "source": [
        "mean_age = df_missing.select('Age').agg({'Age': 'avg'}).collect()[0][0]"
      ],
      "metadata": {
        "id": "rDxpxcf-t8At"
      },
      "execution_count": 30,
      "outputs": []
    },
    {
      "cell_type": "code",
      "source": [
        "df_cleaned = df_missing.na.fill(mean_age, subset=['Age'])"
      ],
      "metadata": {
        "id": "j10zl1Ovuqa_"
      },
      "execution_count": 31,
      "outputs": []
    },
    {
      "cell_type": "code",
      "source": [
        "df_cleaned.show()"
      ],
      "metadata": {
        "colab": {
          "base_uri": "https://localhost:8080/"
        },
        "id": "rl5DmAtpuxtj",
        "outputId": "41f41a16-3df6-485c-e84b-3a8ef7972b05"
      },
      "execution_count": 32,
      "outputs": [
        {
          "output_type": "stream",
          "name": "stdout",
          "text": [
            "+-----+---+------+\n",
            "| Name|Age|Salary|\n",
            "+-----+---+------+\n",
            "|Alice| 28| 45000|\n",
            "|  Bob| 25| 60000|\n",
            "|Cathy| 22|  null|\n",
            "+-----+---+------+\n",
            "\n"
          ]
        }
      ]
    },
    {
      "cell_type": "markdown",
      "source": [
        "## Scaling / Standardization"
      ],
      "metadata": {
        "id": "I_RXOukIwKka"
      }
    },
    {
      "cell_type": "code",
      "source": [
        "from pyspark.ml.feature import MinMaxScaler, StandardScaler\n",
        "from pyspark.ml.feature import VectorAssembler"
      ],
      "metadata": {
        "id": "ZfCly04Ev2Ai"
      },
      "execution_count": 34,
      "outputs": []
    },
    {
      "cell_type": "code",
      "source": [
        "df = spark.createDataFrame(data, ['Name', 'Age', 'Salary'])"
      ],
      "metadata": {
        "id": "RodiaXEDwaYB"
      },
      "execution_count": 35,
      "outputs": []
    },
    {
      "cell_type": "code",
      "source": [
        "assembler = VectorAssembler(inputCols = ['Age', 'Salary'], outputCol = 'features')"
      ],
      "metadata": {
        "id": "SuLIOKU0wnq8"
      },
      "execution_count": 36,
      "outputs": []
    },
    {
      "cell_type": "code",
      "source": [
        "data_for_scaling = assembler.transform(df)"
      ],
      "metadata": {
        "id": "IZHoQSqbwz5Q"
      },
      "execution_count": 37,
      "outputs": []
    },
    {
      "cell_type": "code",
      "source": [
        "data_for_scaling.show()"
      ],
      "metadata": {
        "colab": {
          "base_uri": "https://localhost:8080/"
        },
        "id": "Y_Ot7zvVw7O8",
        "outputId": "13d75d53-35c4-4a34-a5e3-22b8c48fbf68"
      },
      "execution_count": 38,
      "outputs": [
        {
          "output_type": "stream",
          "name": "stdout",
          "text": [
            "+-----+---+------+--------------+\n",
            "| Name|Age|Salary|      features|\n",
            "+-----+---+------+--------------+\n",
            "|Alice| 28| 45000|[28.0,45000.0]|\n",
            "|  Bob| 36| 60000|[36.0,60000.0]|\n",
            "|Cathy| 23| 35000|[23.0,35000.0]|\n",
            "+-----+---+------+--------------+\n",
            "\n"
          ]
        }
      ]
    },
    {
      "cell_type": "code",
      "source": [
        "scaler_min_max = MinMaxScaler(inputCol='features', outputCol='scaled_features')"
      ],
      "metadata": {
        "id": "a62j9cVJxB-L"
      },
      "execution_count": 46,
      "outputs": []
    },
    {
      "cell_type": "code",
      "source": [
        "scaled_min_max = scaler_min_max.fit(data_for_scaling).transform(data_for_scaling)"
      ],
      "metadata": {
        "id": "RGeKPZFAxdFT"
      },
      "execution_count": 47,
      "outputs": []
    },
    {
      "cell_type": "code",
      "source": [
        "scaled_min_max.show()"
      ],
      "metadata": {
        "colab": {
          "base_uri": "https://localhost:8080/"
        },
        "id": "jHu8lRTYxrc-",
        "outputId": "d05800a7-ffe3-4fc3-edf2-e85f463d4325"
      },
      "execution_count": 41,
      "outputs": [
        {
          "output_type": "stream",
          "name": "stdout",
          "text": [
            "+-----+---+------+--------------+--------------------+\n",
            "| Name|Age|Salary|      features|     scaled_features|\n",
            "+-----+---+------+--------------+--------------------+\n",
            "|Alice| 28| 45000|[28.0,45000.0]|[0.38461538461538...|\n",
            "|  Bob| 36| 60000|[36.0,60000.0]|           [1.0,1.0]|\n",
            "|Cathy| 23| 35000|[23.0,35000.0]|           (2,[],[])|\n",
            "+-----+---+------+--------------+--------------------+\n",
            "\n"
          ]
        }
      ]
    },
    {
      "cell_type": "code",
      "source": [
        "scaler_standardization = StandardScaler(inputCol='features', outputCol='scaled_features', withStd=True, withMean=True)"
      ],
      "metadata": {
        "id": "nEpZNtuCxwOy"
      },
      "execution_count": 49,
      "outputs": []
    },
    {
      "cell_type": "code",
      "source": [
        "scaled_standardization = scaler_standardization.fit(data_for_scaling).transform(data_for_scaling)"
      ],
      "metadata": {
        "id": "0ebuqeJMys3g"
      },
      "execution_count": 50,
      "outputs": []
    },
    {
      "cell_type": "code",
      "source": [
        "scaled_standardization.show()"
      ],
      "metadata": {
        "colab": {
          "base_uri": "https://localhost:8080/"
        },
        "id": "wwputB1pzAmh",
        "outputId": "fc849470-32cb-40ab-ad36-d1cef3c6e207"
      },
      "execution_count": 51,
      "outputs": [
        {
          "output_type": "stream",
          "name": "stdout",
          "text": [
            "+-----+---+------+--------------+--------------------+\n",
            "| Name|Age|Salary|      features|     scaled_features|\n",
            "+-----+---+------+--------------+--------------------+\n",
            "|Alice| 28| 45000|[28.0,45000.0]|[-0.1524985703326...|\n",
            "|  Bob| 36| 60000|[36.0,60000.0]|[1.06748999232823...|\n",
            "|Cathy| 23| 35000|[23.0,35000.0]|[-0.9149914219956...|\n",
            "+-----+---+------+--------------+--------------------+\n",
            "\n"
          ]
        }
      ]
    },
    {
      "cell_type": "markdown",
      "source": [
        "# EDA (Exploratory Data Analysis)"
      ],
      "metadata": {
        "id": "nZKqqXMFzTyv"
      }
    },
    {
      "cell_type": "code",
      "source": [
        "data = [('Alice', 28, 45000), ('Bob', 36, 60000), ('Cathy', 23, 35000)]"
      ],
      "metadata": {
        "id": "GYvqu4A2zEWg"
      },
      "execution_count": 52,
      "outputs": []
    },
    {
      "cell_type": "code",
      "source": [
        "df = spark.createDataFrame(data, ['Name', 'Age', 'Salary'])"
      ],
      "metadata": {
        "id": "7ghYZx8VzddG"
      },
      "execution_count": 53,
      "outputs": []
    },
    {
      "cell_type": "code",
      "source": [
        "from pyspark.sql.functions import mean, stddev"
      ],
      "metadata": {
        "id": "s2994Fljztty"
      },
      "execution_count": 54,
      "outputs": []
    },
    {
      "cell_type": "code",
      "source": [
        "summary_stats = df.describe(['Age', 'Salary'])"
      ],
      "metadata": {
        "id": "Y91ADsNdz8WQ"
      },
      "execution_count": 55,
      "outputs": []
    },
    {
      "cell_type": "code",
      "source": [
        "summary_stats.show()"
      ],
      "metadata": {
        "colab": {
          "base_uri": "https://localhost:8080/"
        },
        "id": "L0VH6G100CO3",
        "outputId": "33105825-d27e-4132-a837-5578abf224f5"
      },
      "execution_count": 56,
      "outputs": [
        {
          "output_type": "stream",
          "name": "stdout",
          "text": [
            "+-------+--------------+------------------+\n",
            "|summary|           Age|            Salary|\n",
            "+-------+--------------+------------------+\n",
            "|  count|             3|                 3|\n",
            "|   mean|          29.0|46666.666666666664|\n",
            "| stddev|6.557438524302|12583.057392117917|\n",
            "|    min|            23|             35000|\n",
            "|    max|            36|             60000|\n",
            "+-------+--------------+------------------+\n",
            "\n"
          ]
        }
      ]
    },
    {
      "cell_type": "code",
      "source": [
        "import matplotlib.pyplot as plt\n",
        "import pandas as pd"
      ],
      "metadata": {
        "id": "Upt861-Y0EeZ"
      },
      "execution_count": 57,
      "outputs": []
    },
    {
      "cell_type": "code",
      "source": [
        "pd_df = df.toPandas()"
      ],
      "metadata": {
        "id": "nR814KHH0rvr"
      },
      "execution_count": 58,
      "outputs": []
    },
    {
      "cell_type": "code",
      "source": [
        "plt.scatter(pd_df['Age'], pd_df['Salary'])\n",
        "plt.xlabel('Age')\n",
        "plt.ylabel('Salary')\n",
        "plt.title('Age vs Salary')\n",
        "plt.show()"
      ],
      "metadata": {
        "colab": {
          "base_uri": "https://localhost:8080/",
          "height": 472
        },
        "id": "7nP2yJ0E1E0-",
        "outputId": "ea9b0eb6-6067-4005-f105-855b8d1694f4"
      },
      "execution_count": 60,
      "outputs": [
        {
          "output_type": "display_data",
          "data": {
            "text/plain": [
              "<Figure size 640x480 with 1 Axes>"
            ],
            "image/png": "[encoded data removed]"
          },
          "metadata": {}
        }
      ]
    },
    {
      "cell_type": "code",
      "source": [
        "plt.hist(pd_df['Age'], bins=10, edgecolor='black')\n",
        "plt.xlabel('Age')\n",
        "plt.ylabel('Frequency')\n",
        "plt.title('Age Distribution')\n",
        "plt.show()"
      ],
      "metadata": {
        "colab": {
          "base_uri": "https://localhost:8080/",
          "height": 472
        },
        "id": "xvwTfNUn1NRm",
        "outputId": "8881f458-fb0c-4324-9034-7622b6133464"
      },
      "execution_count": 61,
      "outputs": [
        {
          "output_type": "display_data",
          "data": {
            "text/plain": [
              "<Figure size 640x480 with 1 Axes>"
            ],
            "image/png": "[encoded data removed]"
          },
          "metadata": {}
        }
      ]
    },
    {
      "cell_type": "markdown",
      "source": [
        "## Correlation analysis"
      ],
      "metadata": {
        "id": "poAHKRuf1-RR"
      }
    },
    {
      "cell_type": "code",
      "source": [],
      "metadata": {
        "id": "6OAIJ6jw124H"
      },
      "execution_count": null,
      "outputs": []
    }
  ]
}